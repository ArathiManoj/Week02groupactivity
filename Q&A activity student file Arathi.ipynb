{
 "cells": [
  {
   "cell_type": "markdown",
   "metadata": {
    "id": "4z_Z-K1tlrS7"
   },
   "source": [
    "## 1. Complete the following code to find the area of an equilateral triangle. Output should be as displayed"
   ]
  },
  {
   "cell_type": "code",
   "execution_count": 3,
   "metadata": {
    "id": "rP2qFD_SlrS_"
   },
   "outputs": [
    {
     "name": "stdout",
     "output_type": "stream",
     "text": [
      "Enter the side of the equilateral triangle: 8\n",
      "The area of an equilateral triangle is:  27.712812921102035\n"
     ]
    },
    {
     "data": {
      "text/plain": [
       "28"
      ]
     },
     "execution_count": 3,
     "metadata": {},
     "output_type": "execute_result"
    }
   ],
   "source": [
    "import math\n",
    "side = float(input(\"Enter the side of the equilateral triangle: \"))\n",
    "area = ((math.sqrt(3))/4)*pow(side,2)\n",
    "print(\"The area of an equilateral triangle is: \", area)\n",
    "#round(area)\n"
   ]
  },
  {
   "cell_type": "markdown",
   "metadata": {
    "id": "TjVKjIfclrTB"
   },
   "source": [
    "## 2. Write a program to count the number of each characters in a string"
   ]
  },
  {
   "cell_type": "code",
   "execution_count": 2,
   "metadata": {
    "id": "JY5seVUQlrTC"
   },
   "outputs": [
    {
     "name": "stdout",
     "output_type": "stream",
     "text": [
      "Enter any string: Hello\n",
      "Enter the character to check the frequency : e\n",
      "Number of characters in the string is:  5\n"
     ]
    }
   ],
   "source": [
    "string1=input(\"Enter any string: \")\n",
    "C= input(\"Enter the character to check the frequency : \" )\n",
    "C=len(string1)\n",
    "print(\"Number of characters in the string is: \", C)\n",
    "for i in range(0,len(string1)):\n",
    "    if i==c:\n",
    "        \n",
    "\n",
    "#string= 'Data Science and Analytics'\n"
   ]
  },
  {
   "cell_type": "markdown",
   "metadata": {
    "id": "l3LCULfklrTD"
   },
   "source": [
    "## Write a program to find the area and perimeter of a rectangle using functions"
   ]
  },
  {
   "cell_type": "code",
   "execution_count": 7,
   "metadata": {
    "id": "8haQD8edlrTD"
   },
   "outputs": [
    {
     "name": "stdout",
     "output_type": "stream",
     "text": [
      "To find the perimeter and area of a rectangle.\n",
      "Enter the length of the rectangle: 25\n",
      "Enter the breadth of the rectangle: 50\n",
      "The perimeter of the rectangle is :  150\n",
      "The area of a rectangle given is : 1250\n"
     ]
    }
   ],
   "source": [
    "def calc(l,b):\n",
    "    import math\n",
    "    perimeter= 2*(l+b)\n",
    "    area= l*b\n",
    "    return perimeter,area\n",
    "print(\"To find the perimeter and area of a rectangle.\")\n",
    "l=int(input(\"Enter the length of the rectangle: \"))\n",
    "b=int(input(\"Enter the breadth of the rectangle: \"))\n",
    "p,a= calc(l,b)\n",
    "print(\"The perimeter of the rectangle is : \", p)\n",
    "print(\"The area of a rectangle given is :\", a)\n",
    "         "
   ]
  },
  {
   "cell_type": "markdown",
   "metadata": {
    "id": "JHK4ZdsflrTE"
   },
   "source": [
    "## 4. Write a program to print the fibonacci series till a specified number"
   ]
  },
  {
   "cell_type": "code",
   "execution_count": 17,
   "metadata": {
    "id": "LyBEj-4SlrTE"
   },
   "outputs": [
    {
     "name": "stdout",
     "output_type": "stream",
     "text": [
      "0\n",
      "1\n",
      "1\n",
      "1\n",
      "2\n",
      "3\n",
      "5\n",
      "8\n",
      "13\n",
      "21\n",
      "34\n"
     ]
    }
   ],
   "source": [
    "n1=0\n",
    "n2=1\n",
    "\n",
    "print(n1)\n",
    "print(n2)\n",
    "\n",
    "while n2<50:\n",
    "\n",
    "    print(n2)\n",
    "    n1,n2=n2,n1+n2\n",
    "\n",
    "\n",
    "    \n",
    "    \n",
    "         \n"
   ]
  },
  {
   "cell_type": "markdown",
   "metadata": {
    "id": "u4uBUcQKlrTE"
   },
   "source": [
    "## 5. Complete the following code to find the minimum of 3 number using cinditional statements. Output should be as displayed"
   ]
  },
  {
   "cell_type": "code",
   "execution_count": 4,
   "metadata": {
    "id": "XdZwrZjIlrTF"
   },
   "outputs": [
    {
     "name": "stdout",
     "output_type": "stream",
     "text": [
      "Enter three numbers:  34 67 56\n",
      "First number :  34\n",
      "Second number :  67\n",
      "Third number :  56\n",
      "34  is smallest.\n"
     ]
    }
   ],
   "source": [
    "a,b,c = input(\"Enter three numbers:  \").split()\n",
    "numbers=a,b,c.split()\n",
    "#a=int(input(\"Enter the number a: \"))\n",
    "#b=int(input(\"Enter the number b: \"))\n",
    "#c=int(input(\"Enter the number c: \"))\n",
    "print(\"First number : \",a )\n",
    "print(\"Second number : \",b )\n",
    "print(\"Third number : \",c)\n",
    "\n",
    "if (a<b and a<c):\n",
    "    \n",
    "     print(a,\" is smallest.\")\n",
    "elif (b<a and b<c):\n",
    "    print(b,\"is smallest.\")\n",
    "elif (c<a and c<b):\n",
    "    print(c,\" is smallest.\")\n",
    "else:\n",
    "    print(\"Entered numbers are equal!!!\")\n",
    "\n"
   ]
  },
  {
   "cell_type": "markdown",
   "metadata": {
    "id": "aR_CnToWlrTG"
   },
   "source": [
    "## 6. Write a program to print star pyramind. The number of rows should be taken as input from the user"
   ]
  },
  {
   "cell_type": "code",
   "execution_count": 5,
   "metadata": {
    "id": "M37A-buplrTG"
   },
   "outputs": [
    {
     "name": "stdout",
     "output_type": "stream",
     "text": [
      "Enter the number of rows: 7\n",
      "      *      \n",
      "     * *     \n",
      "    *   *    \n",
      "   *     *   \n",
      "  *       *  \n",
      " *         * \n",
      "*************\n"
     ]
    }
   ],
   "source": [
    "n=int(input(\"Enter the number of rows: \"))\n",
    "for row in range(1,n+1):                                 #(for 1 to 4 rows it was (1,5)so n+1)\n",
    "    for col in range(1,2*n):                             #(so 1 to 7 columns and here so 2*n)\n",
    "         if row==n or row+col==n+1 or col-row==n-1:     #4, 5 as 4+1/n+1, 3 is n-1 as 4-1=3)\n",
    "                print(\"*\",end=\"\")\n",
    "         else:\n",
    "            print(end=\" \")\n",
    "    print()  \n",
    "    \n",
    "    \n",
    "            "
   ]
  },
  {
   "cell_type": "markdown",
   "metadata": {
    "id": "tlY6aFWBlrTH"
   },
   "source": [
    "## 7. Complete the following code to convert hour into seconds. Output should be as displayed"
   ]
  },
  {
   "cell_type": "code",
   "execution_count": 48,
   "metadata": {
    "id": "YOZQFk7FlrTH"
   },
   "outputs": [
    {
     "name": "stdout",
     "output_type": "stream",
     "text": [
      "Enter the hour(s) : 1\n",
      "1.0  Hour is equal to  3600.0 Seconds\n"
     ]
    }
   ],
   "source": [
    "def to_seconds(t):\n",
    "    #minutes=convert_to_minutes(hours)\n",
    "    #seconds=minutes*60\n",
    "    return t\n",
    "time_in_hours = float(input(\"Enter the hour(s) : \"))\n",
    "t=time_in_hours*60*60\n",
    "print(time_in_hours,\" Hour is equal to \",to_seconds(t),\"Seconds\")"
   ]
  },
  {
   "cell_type": "markdown",
   "metadata": {
    "id": "CnYorNiLlrTI"
   },
   "source": [
    "## 8. Write a program to print multiplication table as below"
   ]
  },
  {
   "cell_type": "code",
   "execution_count": 43,
   "metadata": {
    "id": "dPQqDPuDlrTI"
   },
   "outputs": [
    {
     "name": "stdout",
     "output_type": "stream",
     "text": [
      "Enter the number.5\n",
      "1 * 5 = 5\n",
      "2 * 5 = 10\n",
      "3 * 5 = 15\n",
      "4 * 5 = 20\n",
      "5 * 5 = 25\n",
      "6 * 5 = 30\n",
      "7 * 5 = 35\n",
      "8 * 5 = 40\n",
      "9 * 5 = 45\n",
      "10 * 5 = 50\n"
     ]
    }
   ],
   "source": [
    "n=int(input(\"Enter the number.\"))\n",
    "for i in range (1,11):\n",
    "    print(i, \"*\", n, \"=\",n*i)\n",
    "    "
   ]
  },
  {
   "cell_type": "markdown",
   "metadata": {
    "id": "Fiaez8iblrTI"
   },
   "source": [
    "## 9. Write a program to take your 5 favorite food as list and print each as 'I like Biriyani'"
   ]
  },
  {
   "cell_type": "code",
   "execution_count": 6,
   "metadata": {
    "id": "39W1zFX7lrTJ"
   },
   "outputs": [
    {
     "name": "stdout",
     "output_type": "stream",
     "text": [
      "Enter 5 favorite foods- seperated by spaces ChickenBiriyani Alooparatha Poori Masaladosa Dragonchicken\n",
      "What is your favorite food item ?\n",
      "i like ChickenBiriyani\n",
      "i like Alooparatha\n",
      "i like Poori\n",
      "i like Masaladosa\n",
      "i like Dragonchicken\n"
     ]
    }
   ],
   "source": [
    "mylist=input(\"Enter 5 favorite foods- seperated by spaces \").split()\n",
    "\n",
    "print(\"What is your favorite food item ?\" )\n",
    "\n",
    "for i in range (0,5):\n",
    "  print(\"i like \" +mylist[i])\n",
    "    \n",
    " \n",
    "  "
   ]
  },
  {
   "cell_type": "markdown",
   "metadata": {
    "id": "3vlcDNNEP7d_"
   },
   "source": [
    "## 10. Find error(s) in the following code(if any) and rewrite code.\n",
    "\n"
   ]
  },
  {
   "cell_type": "code",
   "execution_count": 9,
   "metadata": {
    "id": "coREkcY3P9sG"
   },
   "outputs": [
    {
     "name": "stdout",
     "output_type": "stream",
     "text": [
      "Enter value of x: 9\n",
      "They are equal\n",
      "They are unequal\n"
     ]
    }
   ],
   "source": [
    "x= int(input(\"Enter value of x: \"))\n",
    "\n",
    "for y in range(0,10):\n",
    " if(x==y):\n",
    "    print(\"They are equal\")\n",
    "else:\n",
    "    print( \"They are unequal\")"
   ]
  },
  {
   "cell_type": "code",
   "execution_count": null,
   "metadata": {},
   "outputs": [],
   "source": []
  }
 ],
 "metadata": {
  "colab": {
   "collapsed_sections": [],
   "name": "Q&A activity student file.ipynb",
   "provenance": []
  },
  "kernelspec": {
   "display_name": "Python 3",
   "language": "python",
   "name": "python3"
  },
  "language_info": {
   "codemirror_mode": {
    "name": "ipython",
    "version": 3
   },
   "file_extension": ".py",
   "mimetype": "text/x-python",
   "name": "python",
   "nbconvert_exporter": "python",
   "pygments_lexer": "ipython3",
   "version": "3.8.8"
  }
 },
 "nbformat": 4,
 "nbformat_minor": 1
}
